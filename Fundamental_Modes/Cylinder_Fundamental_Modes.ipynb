{
  "nbformat": 4,
  "nbformat_minor": 0,
  "metadata": {
    "colab": {
      "provenance": []
    },
    "kernelspec": {
      "name": "python3",
      "display_name": "Python 3"
    },
    "language_info": {
      "name": "python"
    },
    "widgets": {
      "application/vnd.jupyter.widget-state+json": {
        "6194c4a05e7d43fa9e9b9f7b765ed0d0": {
          "model_module": "@jupyter-widgets/controls",
          "model_name": "IntTextModel",
          "model_module_version": "1.5.0",
          "state": {
            "_dom_classes": [],
            "_model_module": "@jupyter-widgets/controls",
            "_model_module_version": "1.5.0",
            "_model_name": "IntTextModel",
            "_view_count": null,
            "_view_module": "@jupyter-widgets/controls",
            "_view_module_version": "1.5.0",
            "_view_name": "IntTextView",
            "continuous_update": false,
            "description": "Order:",
            "description_tooltip": null,
            "disabled": false,
            "layout": "IPY_MODEL_a96e02929373425baf722d0850a8ba3a",
            "step": 1,
            "style": "IPY_MODEL_2f51aabd4d46407792051cbb3e8a4f2b",
            "value": 3
          }
        },
        "a96e02929373425baf722d0850a8ba3a": {
          "model_module": "@jupyter-widgets/base",
          "model_name": "LayoutModel",
          "model_module_version": "1.2.0",
          "state": {
            "_model_module": "@jupyter-widgets/base",
            "_model_module_version": "1.2.0",
            "_model_name": "LayoutModel",
            "_view_count": null,
            "_view_module": "@jupyter-widgets/base",
            "_view_module_version": "1.2.0",
            "_view_name": "LayoutView",
            "align_content": null,
            "align_items": null,
            "align_self": null,
            "border": null,
            "bottom": null,
            "display": null,
            "flex": null,
            "flex_flow": null,
            "grid_area": null,
            "grid_auto_columns": null,
            "grid_auto_flow": null,
            "grid_auto_rows": null,
            "grid_column": null,
            "grid_gap": null,
            "grid_row": null,
            "grid_template_areas": null,
            "grid_template_columns": null,
            "grid_template_rows": null,
            "height": null,
            "justify_content": null,
            "justify_items": null,
            "left": null,
            "margin": null,
            "max_height": null,
            "max_width": null,
            "min_height": null,
            "min_width": null,
            "object_fit": null,
            "object_position": null,
            "order": null,
            "overflow": null,
            "overflow_x": null,
            "overflow_y": null,
            "padding": null,
            "right": null,
            "top": null,
            "visibility": null,
            "width": null
          }
        },
        "2f51aabd4d46407792051cbb3e8a4f2b": {
          "model_module": "@jupyter-widgets/controls",
          "model_name": "DescriptionStyleModel",
          "model_module_version": "1.5.0",
          "state": {
            "_model_module": "@jupyter-widgets/controls",
            "_model_module_version": "1.5.0",
            "_model_name": "DescriptionStyleModel",
            "_view_count": null,
            "_view_module": "@jupyter-widgets/base",
            "_view_module_version": "1.2.0",
            "_view_name": "StyleView",
            "description_width": ""
          }
        },
        "34e4b0ac77174a0ba6810765b16e95c8": {
          "model_module": "@jupyter-widgets/controls",
          "model_name": "IntTextModel",
          "model_module_version": "1.5.0",
          "state": {
            "_dom_classes": [],
            "_model_module": "@jupyter-widgets/controls",
            "_model_module_version": "1.5.0",
            "_model_name": "IntTextModel",
            "_view_count": null,
            "_view_module": "@jupyter-widgets/controls",
            "_view_module_version": "1.5.0",
            "_view_name": "IntTextView",
            "continuous_update": false,
            "description": "Modes:",
            "description_tooltip": null,
            "disabled": false,
            "layout": "IPY_MODEL_556e183ad2904b37a23fa0a368e95caa",
            "step": 1,
            "style": "IPY_MODEL_fbf0dd3c444149afabed29211f3ce706",
            "value": 10
          }
        },
        "556e183ad2904b37a23fa0a368e95caa": {
          "model_module": "@jupyter-widgets/base",
          "model_name": "LayoutModel",
          "model_module_version": "1.2.0",
          "state": {
            "_model_module": "@jupyter-widgets/base",
            "_model_module_version": "1.2.0",
            "_model_name": "LayoutModel",
            "_view_count": null,
            "_view_module": "@jupyter-widgets/base",
            "_view_module_version": "1.2.0",
            "_view_name": "LayoutView",
            "align_content": null,
            "align_items": null,
            "align_self": null,
            "border": null,
            "bottom": null,
            "display": null,
            "flex": null,
            "flex_flow": null,
            "grid_area": null,
            "grid_auto_columns": null,
            "grid_auto_flow": null,
            "grid_auto_rows": null,
            "grid_column": null,
            "grid_gap": null,
            "grid_row": null,
            "grid_template_areas": null,
            "grid_template_columns": null,
            "grid_template_rows": null,
            "height": null,
            "justify_content": null,
            "justify_items": null,
            "left": null,
            "margin": null,
            "max_height": null,
            "max_width": null,
            "min_height": null,
            "min_width": null,
            "object_fit": null,
            "object_position": null,
            "order": null,
            "overflow": null,
            "overflow_x": null,
            "overflow_y": null,
            "padding": null,
            "right": null,
            "top": null,
            "visibility": null,
            "width": null
          }
        },
        "fbf0dd3c444149afabed29211f3ce706": {
          "model_module": "@jupyter-widgets/controls",
          "model_name": "DescriptionStyleModel",
          "model_module_version": "1.5.0",
          "state": {
            "_model_module": "@jupyter-widgets/controls",
            "_model_module_version": "1.5.0",
            "_model_name": "DescriptionStyleModel",
            "_view_count": null,
            "_view_module": "@jupyter-widgets/base",
            "_view_module_version": "1.2.0",
            "_view_name": "StyleView",
            "description_width": ""
          }
        },
        "98801638839b4368a2541a494168b217": {
          "model_module": "@jupyter-widgets/controls",
          "model_name": "FloatTextModel",
          "model_module_version": "1.5.0",
          "state": {
            "_dom_classes": [],
            "_model_module": "@jupyter-widgets/controls",
            "_model_module_version": "1.5.0",
            "_model_name": "FloatTextModel",
            "_view_count": null,
            "_view_module": "@jupyter-widgets/controls",
            "_view_module_version": "1.5.0",
            "_view_name": "FloatTextView",
            "continuous_update": false,
            "description": "cL (m/s):",
            "description_tooltip": null,
            "disabled": false,
            "layout": "IPY_MODEL_b18cd825829e4d1dbf0cf45afc12e72b",
            "step": null,
            "style": "IPY_MODEL_c01d751f64c844ee87f5739457ee1883",
            "value": 1000
          }
        },
        "b18cd825829e4d1dbf0cf45afc12e72b": {
          "model_module": "@jupyter-widgets/base",
          "model_name": "LayoutModel",
          "model_module_version": "1.2.0",
          "state": {
            "_model_module": "@jupyter-widgets/base",
            "_model_module_version": "1.2.0",
            "_model_name": "LayoutModel",
            "_view_count": null,
            "_view_module": "@jupyter-widgets/base",
            "_view_module_version": "1.2.0",
            "_view_name": "LayoutView",
            "align_content": null,
            "align_items": null,
            "align_self": null,
            "border": null,
            "bottom": null,
            "display": null,
            "flex": null,
            "flex_flow": null,
            "grid_area": null,
            "grid_auto_columns": null,
            "grid_auto_flow": null,
            "grid_auto_rows": null,
            "grid_column": null,
            "grid_gap": null,
            "grid_row": null,
            "grid_template_areas": null,
            "grid_template_columns": null,
            "grid_template_rows": null,
            "height": null,
            "justify_content": null,
            "justify_items": null,
            "left": null,
            "margin": null,
            "max_height": null,
            "max_width": null,
            "min_height": null,
            "min_width": null,
            "object_fit": null,
            "object_position": null,
            "order": null,
            "overflow": null,
            "overflow_x": null,
            "overflow_y": null,
            "padding": null,
            "right": null,
            "top": null,
            "visibility": null,
            "width": null
          }
        },
        "c01d751f64c844ee87f5739457ee1883": {
          "model_module": "@jupyter-widgets/controls",
          "model_name": "DescriptionStyleModel",
          "model_module_version": "1.5.0",
          "state": {
            "_model_module": "@jupyter-widgets/controls",
            "_model_module_version": "1.5.0",
            "_model_name": "DescriptionStyleModel",
            "_view_count": null,
            "_view_module": "@jupyter-widgets/base",
            "_view_module_version": "1.2.0",
            "_view_name": "StyleView",
            "description_width": ""
          }
        },
        "75b7f5a3467e4c149cb61604d58abba4": {
          "model_module": "@jupyter-widgets/controls",
          "model_name": "FloatTextModel",
          "model_module_version": "1.5.0",
          "state": {
            "_dom_classes": [],
            "_model_module": "@jupyter-widgets/controls",
            "_model_module_version": "1.5.0",
            "_model_name": "FloatTextModel",
            "_view_count": null,
            "_view_module": "@jupyter-widgets/controls",
            "_view_module_version": "1.5.0",
            "_view_name": "FloatTextView",
            "continuous_update": false,
            "description": "cT (m/s):",
            "description_tooltip": null,
            "disabled": false,
            "layout": "IPY_MODEL_9899fb2f16d54715a748343d49abe67d",
            "step": null,
            "style": "IPY_MODEL_03b2a93bdeae42f682678740ae2415f6",
            "value": 36
          }
        },
        "9899fb2f16d54715a748343d49abe67d": {
          "model_module": "@jupyter-widgets/base",
          "model_name": "LayoutModel",
          "model_module_version": "1.2.0",
          "state": {
            "_model_module": "@jupyter-widgets/base",
            "_model_module_version": "1.2.0",
            "_model_name": "LayoutModel",
            "_view_count": null,
            "_view_module": "@jupyter-widgets/base",
            "_view_module_version": "1.2.0",
            "_view_name": "LayoutView",
            "align_content": null,
            "align_items": null,
            "align_self": null,
            "border": null,
            "bottom": null,
            "display": null,
            "flex": null,
            "flex_flow": null,
            "grid_area": null,
            "grid_auto_columns": null,
            "grid_auto_flow": null,
            "grid_auto_rows": null,
            "grid_column": null,
            "grid_gap": null,
            "grid_row": null,
            "grid_template_areas": null,
            "grid_template_columns": null,
            "grid_template_rows": null,
            "height": null,
            "justify_content": null,
            "justify_items": null,
            "left": null,
            "margin": null,
            "max_height": null,
            "max_width": null,
            "min_height": null,
            "min_width": null,
            "object_fit": null,
            "object_position": null,
            "order": null,
            "overflow": null,
            "overflow_x": null,
            "overflow_y": null,
            "padding": null,
            "right": null,
            "top": null,
            "visibility": null,
            "width": null
          }
        },
        "03b2a93bdeae42f682678740ae2415f6": {
          "model_module": "@jupyter-widgets/controls",
          "model_name": "DescriptionStyleModel",
          "model_module_version": "1.5.0",
          "state": {
            "_model_module": "@jupyter-widgets/controls",
            "_model_module_version": "1.5.0",
            "_model_name": "DescriptionStyleModel",
            "_view_count": null,
            "_view_module": "@jupyter-widgets/base",
            "_view_module_version": "1.2.0",
            "_view_name": "StyleView",
            "description_width": ""
          }
        },
        "8b78efdfd1ca473b9a14b4bca86107da": {
          "model_module": "@jupyter-widgets/controls",
          "model_name": "FloatTextModel",
          "model_module_version": "1.5.0",
          "state": {
            "_dom_classes": [],
            "_model_module": "@jupyter-widgets/controls",
            "_model_module_version": "1.5.0",
            "_model_name": "FloatTextModel",
            "_view_count": null,
            "_view_module": "@jupyter-widgets/controls",
            "_view_module_version": "1.5.0",
            "_view_name": "FloatTextView",
            "continuous_update": false,
            "description": "R (m):",
            "description_tooltip": null,
            "disabled": false,
            "layout": "IPY_MODEL_37421286aa7c4a969cd9e9e067c85571",
            "step": null,
            "style": "IPY_MODEL_296fb7be00074e59b5420e760465b470",
            "value": 0.02627
          }
        },
        "37421286aa7c4a969cd9e9e067c85571": {
          "model_module": "@jupyter-widgets/base",
          "model_name": "LayoutModel",
          "model_module_version": "1.2.0",
          "state": {
            "_model_module": "@jupyter-widgets/base",
            "_model_module_version": "1.2.0",
            "_model_name": "LayoutModel",
            "_view_count": null,
            "_view_module": "@jupyter-widgets/base",
            "_view_module_version": "1.2.0",
            "_view_name": "LayoutView",
            "align_content": null,
            "align_items": null,
            "align_self": null,
            "border": null,
            "bottom": null,
            "display": null,
            "flex": null,
            "flex_flow": null,
            "grid_area": null,
            "grid_auto_columns": null,
            "grid_auto_flow": null,
            "grid_auto_rows": null,
            "grid_column": null,
            "grid_gap": null,
            "grid_row": null,
            "grid_template_areas": null,
            "grid_template_columns": null,
            "grid_template_rows": null,
            "height": null,
            "justify_content": null,
            "justify_items": null,
            "left": null,
            "margin": null,
            "max_height": null,
            "max_width": null,
            "min_height": null,
            "min_width": null,
            "object_fit": null,
            "object_position": null,
            "order": null,
            "overflow": null,
            "overflow_x": null,
            "overflow_y": null,
            "padding": null,
            "right": null,
            "top": null,
            "visibility": null,
            "width": null
          }
        },
        "296fb7be00074e59b5420e760465b470": {
          "model_module": "@jupyter-widgets/controls",
          "model_name": "DescriptionStyleModel",
          "model_module_version": "1.5.0",
          "state": {
            "_model_module": "@jupyter-widgets/controls",
            "_model_module_version": "1.5.0",
            "_model_name": "DescriptionStyleModel",
            "_view_count": null,
            "_view_module": "@jupyter-widgets/base",
            "_view_module_version": "1.2.0",
            "_view_name": "StyleView",
            "description_width": ""
          }
        },
        "09a1f1bf2f8a4c20ba7c08eba68adc8b": {
          "model_module": "@jupyter-widgets/controls",
          "model_name": "ButtonModel",
          "model_module_version": "1.5.0",
          "state": {
            "_dom_classes": [],
            "_model_module": "@jupyter-widgets/controls",
            "_model_module_version": "1.5.0",
            "_model_name": "ButtonModel",
            "_view_count": null,
            "_view_module": "@jupyter-widgets/controls",
            "_view_module_version": "1.5.0",
            "_view_name": "ButtonView",
            "button_style": "",
            "description": "Calculate Modes",
            "disabled": false,
            "icon": "",
            "layout": "IPY_MODEL_83c0325944b841119f4a282bc112a9ea",
            "style": "IPY_MODEL_9137fb8393aa42c28ff63070c3b3259d",
            "tooltip": ""
          }
        },
        "83c0325944b841119f4a282bc112a9ea": {
          "model_module": "@jupyter-widgets/base",
          "model_name": "LayoutModel",
          "model_module_version": "1.2.0",
          "state": {
            "_model_module": "@jupyter-widgets/base",
            "_model_module_version": "1.2.0",
            "_model_name": "LayoutModel",
            "_view_count": null,
            "_view_module": "@jupyter-widgets/base",
            "_view_module_version": "1.2.0",
            "_view_name": "LayoutView",
            "align_content": null,
            "align_items": null,
            "align_self": null,
            "border": null,
            "bottom": null,
            "display": null,
            "flex": null,
            "flex_flow": null,
            "grid_area": null,
            "grid_auto_columns": null,
            "grid_auto_flow": null,
            "grid_auto_rows": null,
            "grid_column": null,
            "grid_gap": null,
            "grid_row": null,
            "grid_template_areas": null,
            "grid_template_columns": null,
            "grid_template_rows": null,
            "height": null,
            "justify_content": null,
            "justify_items": null,
            "left": null,
            "margin": null,
            "max_height": null,
            "max_width": null,
            "min_height": null,
            "min_width": null,
            "object_fit": null,
            "object_position": null,
            "order": null,
            "overflow": null,
            "overflow_x": null,
            "overflow_y": null,
            "padding": null,
            "right": null,
            "top": null,
            "visibility": null,
            "width": null
          }
        },
        "9137fb8393aa42c28ff63070c3b3259d": {
          "model_module": "@jupyter-widgets/controls",
          "model_name": "ButtonStyleModel",
          "model_module_version": "1.5.0",
          "state": {
            "_model_module": "@jupyter-widgets/controls",
            "_model_module_version": "1.5.0",
            "_model_name": "ButtonStyleModel",
            "_view_count": null,
            "_view_module": "@jupyter-widgets/base",
            "_view_module_version": "1.2.0",
            "_view_name": "StyleView",
            "button_color": null,
            "font_weight": ""
          }
        },
        "abc03edd54cc4cd2b70ebb552e7485ed": {
          "model_module": "@jupyter-widgets/output",
          "model_name": "OutputModel",
          "model_module_version": "1.0.0",
          "state": {
            "_dom_classes": [],
            "_model_module": "@jupyter-widgets/output",
            "_model_module_version": "1.0.0",
            "_model_name": "OutputModel",
            "_view_count": null,
            "_view_module": "@jupyter-widgets/output",
            "_view_module_version": "1.0.0",
            "_view_name": "OutputView",
            "layout": "IPY_MODEL_35baf0cbefd3414c91ad2a4a405ab4e9",
            "msg_id": "",
            "outputs": [
              {
                "output_type": "stream",
                "name": "stdout",
                "text": [
                  "0.0\n",
                  "mode n freq (Hz) ka\n",
                  "0_S_0 0.0 1120.0970044432545 5.135622301814693\n",
                  "0_S_1 0.0 1835.8300889779136 8.417244140371295\n",
                  "0_S_2 0.0 2534.327589551219 11.619841172124916\n",
                  "0_S_3 0.0 3227.0483098911245 14.79595178236179\n",
                  "0_S_4 0.0 3917.0988118718296 17.959819494972987\n",
                  "0_S_5 0.0 4605.690167981817 21.116997053030126\n",
                  "0_S_6 0.0 5293.395522936112 24.27011231355718\n",
                  "0_S_7 0.0 5980.522026046882 27.42057354999056\n",
                  "0_S_8 0.0 6667.249336376313 30.569204495527305\n",
                  "0_S_9 0.0 7353.689637409927 33.71651950919871\n",
                  "1.0\n",
                  "mode n freq (Hz) ka\n",
                  "1_S_0 1.0 665.9773892066897 3.0534929733288756\n",
                  "1_S_1 1.0 1462.5844589140343 6.705920411973588\n",
                  "1_S_2 1.0 2174.3457271369343 9.969331552395595\n",
                  "1_S_3 1.0 2872.481289920029 13.170269106639767\n",
                  "1_S_4 1.0 3565.433391348343 16.347440594526642\n",
                  "1_S_5 1.0 4255.81887473568 19.51284419016919\n",
                  "1_S_6 1.0 4944.737539461911 22.67152245166763\n",
                  "1_S_7 1.0 5632.736676945893 25.82598469920149\n",
                  "1_S_8 1.0 6320.120472341473 28.97762561560072\n",
                  "1_S_9 1.0 7007.071877205152 32.12728403008278\n",
                  "2.0\n",
                  "mode n freq (Hz) ka\n",
                  "2_S_0 2.0 513.3872354668848 2.3538701786290654\n",
                  "2_S_1 2.0 1043.2443022231703 4.783254203417387\n",
                  "2_S_2 2.0 1783.2490066051705 8.17616093220645\n",
                  "2_S_3 2.0 2496.346083423933 11.44569672825083\n",
                  "2_S_4 2.0 3197.3136627133777 14.659619021380491\n",
                  "2_S_5 2.0 3892.650611216506 17.847724985277257\n",
                  "2_S_6 2.0 4584.923106895484 21.021780494432925\n",
                  "2_S_7 2.0 5275.341349140365 24.187334288780338\n",
                  "2_S_8 2.0 5964.551232648167 27.347347782551886\n",
                  "2_S_9 2.0 6652.929328200153 30.50354754522753\n"
                ]
              }
            ]
          }
        },
        "35baf0cbefd3414c91ad2a4a405ab4e9": {
          "model_module": "@jupyter-widgets/base",
          "model_name": "LayoutModel",
          "model_module_version": "1.2.0",
          "state": {
            "_model_module": "@jupyter-widgets/base",
            "_model_module_version": "1.2.0",
            "_model_name": "LayoutModel",
            "_view_count": null,
            "_view_module": "@jupyter-widgets/base",
            "_view_module_version": "1.2.0",
            "_view_name": "LayoutView",
            "align_content": null,
            "align_items": null,
            "align_self": null,
            "border": null,
            "bottom": null,
            "display": null,
            "flex": null,
            "flex_flow": null,
            "grid_area": null,
            "grid_auto_columns": null,
            "grid_auto_flow": null,
            "grid_auto_rows": null,
            "grid_column": null,
            "grid_gap": null,
            "grid_row": null,
            "grid_template_areas": null,
            "grid_template_columns": null,
            "grid_template_rows": null,
            "height": null,
            "justify_content": null,
            "justify_items": null,
            "left": null,
            "margin": null,
            "max_height": null,
            "max_width": null,
            "min_height": null,
            "min_width": null,
            "object_fit": null,
            "object_position": null,
            "order": null,
            "overflow": null,
            "overflow_x": null,
            "overflow_y": null,
            "padding": null,
            "right": null,
            "top": null,
            "visibility": null,
            "width": null
          }
        }
      }
    }
  },
  "cells": [
    {
      "cell_type": "code",
      "execution_count": 4,
      "metadata": {
        "cellView": "form",
        "id": "qGxeOwULeZN4"
      },
      "outputs": [],
      "source": [
        "#@title Packages and functions\n",
        "import numpy as np\n",
        "import matplotlib.pyplot as plt\n",
        "from scipy.special import jv, jvp, yv, iv\n",
        "from scipy.optimize import root_scalar\n",
        "plt.rcParams.update({'font.size': 22})\n",
        "# %matplotlib qt\n",
        "\n",
        "def Cylinder_modes(cL, cT, R, order, modes):\n",
        "  def Viktorov_matrix(omega, p , cl, ct, R):\n",
        "      '''\n",
        "      Equation I.28 can be written as a matrix.  Where the determinant of that matrix is zero, we have the roots\n",
        "      of the equality.\n",
        "      omega = frequency\n",
        "      p = angular wavenumber\n",
        "      cl = longitudinal wave velocity of material\n",
        "      ct = shear wave velocity of material\n",
        "      '''\n",
        "      # re-scaling for numerical convenience\n",
        "      R = R*1000\n",
        "      cl = cl/1000\n",
        "      ct = ct/1000\n",
        "      omega = omega/1e6\n",
        "      # Code starts\n",
        "      kl = omega/cl\n",
        "      kt = omega/ct\n",
        "      x = kl*R\n",
        "      y = kt*R\n",
        "      # Matrix form\n",
        "      a = (jv(p+2,x) + jv(p-2,x) - 2*((kt/kl)**2 -1)*jv(p,x))\n",
        "      b = (jv(p+2,y) - jv(p-2,y))\n",
        "      c = (jv(p+2,x) - jv(p-2,x))\n",
        "      d = (jv(p+2,y) + jv(p-2,y))\n",
        "      M = np.array([[a, b],[c, d]])\n",
        "      return M\n",
        "\n",
        "  def D_det(omega):\n",
        "      '''Calculate the determinant of matrix '''\n",
        "      return np.linalg.det(Viktorov_matrix(omega, kp, cL, cT, R))\n",
        "  # Define constants and range of calculations\n",
        "  fstop = 5.0*1e6 #5.0 # Ending frequency in MHz\n",
        "  dp = 1.0 #0.2 # 0.1\n",
        "  wstart = 0.0001*1e6 #0.0001*1e6\n",
        "  dw = 0.001*1e6 # 0.001*1e6 #0.001; #0.01\n",
        "  kpstart = 0 #0.001 #0.001 #0.04*radius; #0.01\n",
        "  kpstop = order #20.0#20.0 #kstop*radius;\n",
        "\n",
        "  omegas = np.arange(wstart,2*np.pi*fstop,dw)\n",
        "  kps = np.arange(kpstart,kpstop,dp)\n",
        "\n",
        "  number_of_roots = modes\n",
        "\n",
        "  roots = []\n",
        "  KP = []\n",
        "  for kp in kps: #kp\n",
        "      print(kp)\n",
        "      print('mode', 'n', 'freq (Hz)', 'ka')\n",
        "      rc = 0\n",
        "      for omega in omegas:\n",
        "          if kp <= 1.0: #1.0:\n",
        "              NR = number_of_roots #- 1 #\n",
        "              if rc < NR: #number_of_roots:\n",
        "                  if (np.sign(D_det(omega)) > np.sign(D_det(omega+dw))) or (np.sign(D_det(omega)) < np.sign(D_det(omega+dw))):\n",
        "                      #print(omega)\\\n",
        "                      root_val = root_scalar(D_det, bracket = [omega,omega+dw], method = 'bisect', xtol = 1e-7)# root_val.root\n",
        "                      #if rc == 0:\n",
        "                      #   roots.append(0)\n",
        "                      #   KP.append(kp)\n",
        "                      if root_val != None:\n",
        "                          roots.append(root_val.root)\n",
        "                          KP.append(kp)\n",
        "                          print(''+str(int(kp))+'_S_'+str(rc)+'', kp, root_val.root/(2*np.pi), root_val.root*R/cT)\n",
        "                          rc = rc + 1\n",
        "              elif rc == NR:\n",
        "                  break\n",
        "          elif kp > 1.0: #1.5:\n",
        "              NR = number_of_roots #\n",
        "              if rc < NR: #number_of_roots:\n",
        "                  if (np.sign(D_det(omega)) > np.sign(D_det(omega+dw))) or (np.sign(D_det(omega)) < np.sign(D_det(omega+dw))):\n",
        "                      #print(omega)\\\n",
        "                      root_val = root_scalar(D_det, bracket = [omega,omega+dw], method = 'bisect', xtol = 1e-7)# root_val.root\n",
        "                      if root_val != None:\n",
        "                          roots.append(root_val.root)\n",
        "                          KP.append(kp)\n",
        "                          print(''+str(int(kp))+'_S_'+str(rc)+'', kp, root_val.root/(2*np.pi), root_val.root*R/cT)\n",
        "                          rc = rc + 1\n",
        "                          if rc == 1:\n",
        "                              wstart = root_val.root\n",
        "                              omegas = np.arange(wstart,2*np.pi*fstop,dw)\n",
        "              elif rc == NR:\n",
        "                  break\n",
        "  return roots, KP"
      ]
    },
    {
      "cell_type": "markdown",
      "source": [
        "# Calculate the fundamental eigenmodes of a cylinder\n",
        "\n",
        "You can compare the values to the ones of Lucien Saviot [here.](https://saviot.cnrs.fr/cyl/index.en.html)"
      ],
      "metadata": {
        "id": "uZV3MaCIiW3e"
      }
    },
    {
      "cell_type": "code",
      "source": [
        "#@title Calculate fundamental modes\n",
        "\n",
        "import ipywidgets as widgets\n",
        "from IPython.display import display, clear_output\n",
        "\n",
        "# Create input widgets\n",
        "cL_widget = widgets.FloatText(value=1000.0, description='cL (m/s):')\n",
        "cT_widget = widgets.FloatText(value=36.0, description='cT (m/s):')\n",
        "R_widget = widgets.FloatText(value=0.02627, description='R (m):')\n",
        "order_widget = widgets.IntText(value=3, description='Order:')\n",
        "modes_widget = widgets.IntText(value=10, description='Modes:')\n",
        "\n",
        "# Create button widget\n",
        "button = widgets.Button(description=\"Calculate Modes\")\n",
        "\n",
        "# Create output widget\n",
        "out = widgets.Output()\n",
        "\n",
        "# Define on_button_clicked function\n",
        "def on_button_clicked(b):\n",
        "  with out:\n",
        "    clear_output()\n",
        "    roots, KP = Cylinder_modes(cL_widget.value, cT_widget.value, R_widget.value, order_widget.value, modes_widget.value)\n",
        "  return roots, KP\n",
        "\n",
        "# Attach on_click event to button\n",
        "button.on_click(on_button_clicked)\n",
        "\n",
        "# Display widgets\n",
        "display(order_widget, modes_widget ,cL_widget, cT_widget, R_widget, button, out)\n",
        "\n",
        "roots, KP = on_button_clicked(button)"
      ],
      "metadata": {
        "colab": {
          "base_uri": "https://localhost:8080/",
          "height": 846,
          "referenced_widgets": [
            "6194c4a05e7d43fa9e9b9f7b765ed0d0",
            "a96e02929373425baf722d0850a8ba3a",
            "2f51aabd4d46407792051cbb3e8a4f2b",
            "34e4b0ac77174a0ba6810765b16e95c8",
            "556e183ad2904b37a23fa0a368e95caa",
            "fbf0dd3c444149afabed29211f3ce706",
            "98801638839b4368a2541a494168b217",
            "b18cd825829e4d1dbf0cf45afc12e72b",
            "c01d751f64c844ee87f5739457ee1883",
            "75b7f5a3467e4c149cb61604d58abba4",
            "9899fb2f16d54715a748343d49abe67d",
            "03b2a93bdeae42f682678740ae2415f6",
            "8b78efdfd1ca473b9a14b4bca86107da",
            "37421286aa7c4a969cd9e9e067c85571",
            "296fb7be00074e59b5420e760465b470",
            "09a1f1bf2f8a4c20ba7c08eba68adc8b",
            "83c0325944b841119f4a282bc112a9ea",
            "9137fb8393aa42c28ff63070c3b3259d",
            "abc03edd54cc4cd2b70ebb552e7485ed",
            "35baf0cbefd3414c91ad2a4a405ab4e9"
          ]
        },
        "cellView": "form",
        "id": "f-ftedq7fYel",
        "outputId": "3c8d6ff9-07f2-46a6-da28-c1d360755a0f"
      },
      "execution_count": 5,
      "outputs": [
        {
          "output_type": "display_data",
          "data": {
            "text/plain": [
              "IntText(value=3, description='Order:')"
            ],
            "application/vnd.jupyter.widget-view+json": {
              "version_major": 2,
              "version_minor": 0,
              "model_id": "6194c4a05e7d43fa9e9b9f7b765ed0d0"
            }
          },
          "metadata": {}
        },
        {
          "output_type": "display_data",
          "data": {
            "text/plain": [
              "IntText(value=10, description='Modes:')"
            ],
            "application/vnd.jupyter.widget-view+json": {
              "version_major": 2,
              "version_minor": 0,
              "model_id": "34e4b0ac77174a0ba6810765b16e95c8"
            }
          },
          "metadata": {}
        },
        {
          "output_type": "display_data",
          "data": {
            "text/plain": [
              "FloatText(value=1000.0, description='cL (m/s):')"
            ],
            "application/vnd.jupyter.widget-view+json": {
              "version_major": 2,
              "version_minor": 0,
              "model_id": "98801638839b4368a2541a494168b217"
            }
          },
          "metadata": {}
        },
        {
          "output_type": "display_data",
          "data": {
            "text/plain": [
              "FloatText(value=36.0, description='cT (m/s):')"
            ],
            "application/vnd.jupyter.widget-view+json": {
              "version_major": 2,
              "version_minor": 0,
              "model_id": "75b7f5a3467e4c149cb61604d58abba4"
            }
          },
          "metadata": {}
        },
        {
          "output_type": "display_data",
          "data": {
            "text/plain": [
              "FloatText(value=0.02627, description='R (m):')"
            ],
            "application/vnd.jupyter.widget-view+json": {
              "version_major": 2,
              "version_minor": 0,
              "model_id": "8b78efdfd1ca473b9a14b4bca86107da"
            }
          },
          "metadata": {}
        },
        {
          "output_type": "display_data",
          "data": {
            "text/plain": [
              "Button(description='Calculate Modes', style=ButtonStyle())"
            ],
            "application/vnd.jupyter.widget-view+json": {
              "version_major": 2,
              "version_minor": 0,
              "model_id": "09a1f1bf2f8a4c20ba7c08eba68adc8b"
            }
          },
          "metadata": {}
        },
        {
          "output_type": "display_data",
          "data": {
            "text/plain": [
              "Output()"
            ],
            "application/vnd.jupyter.widget-view+json": {
              "version_major": 2,
              "version_minor": 0,
              "model_id": "abc03edd54cc4cd2b70ebb552e7485ed"
            }
          },
          "metadata": {}
        }
      ]
    },
    {
      "cell_type": "code",
      "source": [
        "len(np.array(roots)/(2*np.pi))"
      ],
      "metadata": {
        "colab": {
          "base_uri": "https://localhost:8080/"
        },
        "id": "rlHHuhLipI6q",
        "outputId": "f30b34e9-53f2-49db-edfc-c645a4d3fa2e"
      },
      "execution_count": 6,
      "outputs": [
        {
          "output_type": "execute_result",
          "data": {
            "text/plain": [
              "30"
            ]
          },
          "metadata": {},
          "execution_count": 6
        }
      ]
    },
    {
      "cell_type": "code",
      "source": [],
      "metadata": {
        "id": "Cq8CM-SRpJmE"
      },
      "execution_count": 6,
      "outputs": []
    }
  ]
}